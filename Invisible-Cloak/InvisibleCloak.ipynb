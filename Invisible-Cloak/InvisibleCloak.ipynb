{
 "cells": [
  {
   "cell_type": "code",
   "execution_count": 26,
   "metadata": {},
   "outputs": [],
   "source": [
    "import cv2\n",
    "\n",
    "cap = cv2.VideoCapture(0)\n",
    "\n",
    "while cap.isOpened():\n",
    "    ret, bg= cap.read() \n",
    "    if ret:\n",
    "        # back is what the camera is reading\n",
    "        cv2.imshow(\"image\", bg)\n",
    "        if cv2.waitKey(5) == ord('q'):\n",
    "            # save the image|\n",
    "            cv2.imwrite('image.jpg', bg)\n",
    "            break\n",
    "\n",
    "cap.release()\n",
    "cv2.destroyAllWindows()"
   ]
  },
  {
   "cell_type": "code",
   "execution_count": 28,
   "metadata": {},
   "outputs": [],
   "source": [
    "import numpy as np\n",
    "\n",
    "cap = cv2.VideoCapture(0)\n",
    "bg = cv2.imread('image.jpg')\n",
    "#for i in range(10):\n",
    "  #  heck,bg=cap.read()\n",
    "\n",
    "while cap.isOpened():\n",
    "    ret, frame = cap.read()\n",
    "\n",
    "    if ret:\n",
    "        # how do we convert rgb to hsv?\n",
    "        hsv = cv2.cvtColor(frame, cv2.COLOR_BGR2HSV)\n",
    "        \n",
    "       \n",
    "        red = np.uint8([[[0,0,255]]]) # bgr value of white\n",
    "        hsv_red = cv2.cvtColor(red, cv2.COLOR_BGR2HSV)\n",
    "        l_red = np.array([75, 0, 123])\n",
    "        u_red = np.array([134, 255, 255])\n",
    "        \n",
    "\n",
    "        mask = cv2.inRange(hsv, l_red, u_red)\n",
    "        kernal = np.ones((5,5), np.uint8)\n",
    "        mask=cv2.morphologyEx(mask,cv2.MORPH_CLOSE,kernal)\n",
    "        grad=cv2.morphologyEx(mask,cv2.MORPH_GRADIENT,kernal)\n",
    "        # all things white\n",
    "       \n",
    "        part1 = cv2.bitwise_and(bg, bg, mask=mask-grad)\n",
    "\n",
    "        mask = cv2.bitwise_not(mask)\n",
    "        mask=cv2.morphologyEx(mask,cv2.MORPH_CLOSE,kernal)\n",
    "        grad=cv2.morphologyEx(mask,cv2.MORPH_GRADIENT,kernal)\n",
    "        # part 2 is all things not color choosen\n",
    "        part2 = cv2.bitwise_and(frame, frame, mask=mask-grad)\n",
    "        cv2.imshow(\"cloak\", part1 + part2)\n",
    "\n",
    "        if cv2.waitKey(5) == ord('q'):\n",
    "            break\n",
    "\n",
    "cap.release()\n",
    "cv2.destroyAllWindows()"
   ]
  },
  {
   "cell_type": "code",
   "execution_count": null,
   "metadata": {},
   "outputs": [],
   "source": []
  },
  {
   "cell_type": "code",
   "execution_count": null,
   "metadata": {},
   "outputs": [],
   "source": []
  }
 ],
 "metadata": {
  "kernelspec": {
   "display_name": "Python 3",
   "language": "python",
   "name": "python3"
  },
  "language_info": {
   "codemirror_mode": {
    "name": "ipython",
    "version": 3
   },
   "file_extension": ".py",
   "mimetype": "text/x-python",
   "name": "python",
   "nbconvert_exporter": "python",
   "pygments_lexer": "ipython3",
   "version": "3.8.5"
  }
 },
 "nbformat": 4,
 "nbformat_minor": 4
}
